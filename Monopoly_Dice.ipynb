{
 "cells": [
  {
   "cell_type": "code",
   "execution_count": 34,
   "metadata": {},
   "outputs": [],
   "source": [
    "import random"
   ]
  },
  {
   "cell_type": "code",
   "execution_count": 35,
   "metadata": {},
   "outputs": [],
   "source": [
    "class Dice:\n",
    "    def __init__(self, fake = False):\n",
    "        self.fake = fake\n",
    "\n",
    "    def roll(self):\n",
    "        random_value = random.randint(1, 6)\n",
    "        if self.fake:\n",
    "            random_value = 3\n",
    "        return random_value"
   ]
  },
  {
   "cell_type": "code",
   "execution_count": 36,
   "metadata": {},
   "outputs": [],
   "source": [
    "d1 = Dice()\n",
    "d2 = Dice()"
   ]
  },
  {
   "cell_type": "code",
   "execution_count": 40,
   "metadata": {},
   "outputs": [
    {
     "name": "stdout",
     "output_type": "stream",
     "text": [
      "6 6 = 12\n",
      "roll again!\n",
      "2 4 = 6\n",
      "stop!\n"
     ]
    }
   ],
   "source": [
    "roll_again = True\n",
    "num_doubles = 0\n",
    "while roll_again:\n",
    "    total = 0\n",
    "    v1 = d1.roll()\n",
    "    v2 = d2.roll()\n",
    "    total = v1 + v2\n",
    "    if v1 == v2:\n",
    "        num_doubles += 1\n",
    "        roll_again = True\n",
    "    else:\n",
    "        roll_again = False\n",
    "    print(v1, v2, \"=\", total)\n",
    "    \n",
    "    if num_doubles == 3:\n",
    "        print(\"go to jail!\")\n",
    "        roll_again = False\n",
    "    elif roll_again:\n",
    "        print(\"roll again!\")\n",
    "    else:\n",
    "        print(\"stop!\")\n",
    "    "
   ]
  },
  {
   "cell_type": "code",
   "execution_count": null,
   "metadata": {},
   "outputs": [],
   "source": []
  }
 ],
 "metadata": {
  "kernelspec": {
   "display_name": "Python 3",
   "language": "python",
   "name": "python3"
  },
  "language_info": {
   "codemirror_mode": {
    "name": "ipython",
    "version": 3
   },
   "file_extension": ".py",
   "mimetype": "text/x-python",
   "name": "python",
   "nbconvert_exporter": "python",
   "pygments_lexer": "ipython3",
   "version": "3.7.6"
  }
 },
 "nbformat": 4,
 "nbformat_minor": 4
}
